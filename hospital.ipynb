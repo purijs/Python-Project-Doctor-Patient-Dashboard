{
 "cells": [
  {
   "cell_type": "code",
   "execution_count": 13,
   "metadata": {
    "collapsed": false
   },
   "outputs": [],
   "source": [
    "import ipywidgets as widget\n",
    "from IPython.display import display\n",
    "from pymongo import MongoClient\n",
    "import datetime"
   ]
  },
  {
   "cell_type": "code",
   "execution_count": 14,
   "metadata": {
    "collapsed": false
   },
   "outputs": [],
   "source": [
    "client=MongoClient()\n",
    "db=client.hospital"
   ]
  },
  {
   "cell_type": "code",
   "execution_count": 59,
   "metadata": {
    "collapsed": false
   },
   "outputs": [],
   "source": [
    "class process_doctor(object):\n",
    "    \n",
    "    def __init__(self):\n",
    "        pass\n",
    "    \n",
    "    def add_to_db(self,user_name,user_role):\n",
    "        users=db.users\n",
    "        if len(user_name)>=3:\n",
    "            users.insert_one({'name':user_name,'role':user_role})\n",
    "            print \"Added!\"\n",
    "        else:\n",
    "            print \"Invalid name!\"\n",
    "    \n",
    "    def get_all(self):\n",
    "        users=db.users\n",
    "        all_doctors=[]\n",
    "        for record in users.find({'role': 1,'links_to':{'$exists':False}},{'name':1,'_id':0}):\n",
    "            all_doctors.append(str(record.get(\"name\")))\n",
    "        return all_doctors\n",
    "    \n",
    "    def link_to_patient(self,u_doctor,u_patient):\n",
    "        users=db.users\n",
    "        users.update_one({'name':u_doctor},{'$set':{'links_to':u_patient}})\n",
    "        print \"Linked!\"\n",
    "            \n",
    "class process_patient(object):\n",
    "    \n",
    "    def __init__(self):\n",
    "        pass\n",
    "    \n",
    "    def add_to_db(self,user_name,user_role):\n",
    "        users=db.users\n",
    "        if len(user_name)>=3:\n",
    "            users.insert_one({'name':user_name,'role':user_role})\n",
    "            print \"Added!\"\n",
    "        else:\n",
    "            print \"Invalid name!\" \n",
    "    \n",
    "    def get_all(self):\n",
    "        users=db.users\n",
    "        all_patients={}\n",
    "        for record in users.find({\"role\": 2},{'name':1}):\n",
    "            all_patients.update({str(record.get(\"name\")):record.get(\"_id\")})\n",
    "        return all_patients"
   ]
  },
  {
   "cell_type": "code",
   "execution_count": 44,
   "metadata": {
    "collapsed": false
   },
   "outputs": [],
   "source": [
    "doctor_field=widget.Text()\n",
    "patient_field=widget.Text()\n",
    "\n",
    "def render_patient_ui(patient_field):\n",
    "    caption_1=widget.Label(value=\"Add a patient\");\n",
    "    display(caption_1,patient_field)\n",
    "    patient_field.on_submit(register_patient)\n",
    "        \n",
    "def register_patient(value):\n",
    "    patient=process_patient()\n",
    "    patient.add_to_db(patient_field.value,2)\n",
    "\n",
    "def render_doctor_ui(doctor_field):\n",
    "    caption_2=widget.Label(value=\"Add a doctor\");\n",
    "    display(caption_2,doctor_field)\n",
    "    doctor_field.on_submit(register_doctor)\n",
    "        \n",
    "def register_doctor(value):\n",
    "    doctor=process_doctor()\n",
    "    doctor.add_to_db(doctor_field.value,1)           "
   ]
  },
  {
   "cell_type": "code",
   "execution_count": 45,
   "metadata": {
    "collapsed": false
   },
   "outputs": [
    {
     "name": "stdout",
     "output_type": "stream",
     "text": [
      "Added!\n"
     ]
    }
   ],
   "source": [
    "#add a doctor\n",
    "render_doctor_ui(doctor_field)\n",
    "#add a patient\n",
    "render_patient_ui(patient_field)"
   ]
  },
  {
   "cell_type": "code",
   "execution_count": 67,
   "metadata": {
    "collapsed": false
   },
   "outputs": [
    {
     "name": "stdout",
     "output_type": "stream",
     "text": [
      "No available docs, please add first!\n"
     ]
    }
   ],
   "source": [
    "#schedule appointment\n",
    "\n",
    "def get_apt_details(value):\n",
    "    add_apt=process_doctor()\n",
    "    add_apt.link_to_patient(doctors_list.value,patients_list.value)\n",
    "    \n",
    "doctors=process_doctor()\n",
    "all_doctors=doctors.get_all()\n",
    "if len(all_doctors)>0:\n",
    "    doctors_list = widget.Dropdown(\n",
    "        options=all_doctors,\n",
    "        description='Select Doctor:'\n",
    "    )\n",
    "    patients=process_patient()\n",
    "    all_patients=patients.get_all()\n",
    "    patients_list = widget.Dropdown(\n",
    "        options=all_patients,\n",
    "        description='Select Patient:'\n",
    "    )\n",
    "    display(doctors_list)\n",
    "    display(patients_list)\n",
    "\n",
    "    create_link=widget.Button(description='Add Appointment');\n",
    "    display(create_link)\n",
    "\n",
    "    create_link.on_click(get_apt_details)\n",
    "else:\n",
    "    print \"No available docs, please add first!\""
   ]
  },
  {
   "cell_type": "code",
   "execution_count": null,
   "metadata": {
    "collapsed": true
   },
   "outputs": [],
   "source": []
  },
  {
   "cell_type": "code",
   "execution_count": null,
   "metadata": {
    "collapsed": true
   },
   "outputs": [],
   "source": []
  }
 ],
 "metadata": {
  "kernelspec": {
   "display_name": "Python 2",
   "language": "python",
   "name": "python2"
  },
  "language_info": {
   "codemirror_mode": {
    "name": "ipython",
    "version": 2
   },
   "file_extension": ".py",
   "mimetype": "text/x-python",
   "name": "python",
   "nbconvert_exporter": "python",
   "pygments_lexer": "ipython2",
   "version": "2.7.13"
  },
  "widgets": {
   "state": {
    "26f7dba793e4401db8c408d9a9f9984f": {
     "views": [
      {
       "cell_index": 5
      }
     ]
    },
    "287bbec3ddb148c0894107ae6d9665df": {
     "views": [
      {
       "cell_index": 5
      }
     ]
    },
    "29742460176147e681e416157cf73609": {
     "views": [
      {
       "cell_index": 5
      }
     ]
    },
    "2a4faed2669d4d6f94c552a51440d797": {
     "views": [
      {
       "cell_index": 5
      }
     ]
    },
    "2ecfe3dcf05e4df6b145737b10e0f816": {
     "views": [
      {
       "cell_index": 5
      }
     ]
    },
    "31d37d7a8c8c42489ecf1076ff5bcaa8": {
     "views": [
      {
       "cell_index": 4
      }
     ]
    },
    "3b2f79701a3b4d9486577a0855239b7b": {
     "views": [
      {
       "cell_index": 4
      },
      {
       "cell_index": 4
      }
     ]
    },
    "4b02ffd750cb4a2396670852457f7964": {
     "views": [
      {
       "cell_index": 5
      }
     ]
    },
    "4e27065e12324c69b3bc13aed40a3605": {
     "views": [
      {
       "cell_index": 5
      }
     ]
    },
    "4e599f91d36c435ab54de9569ccb4751": {
     "views": [
      {
       "cell_index": 5
      }
     ]
    },
    "548c565e934a42b38cd2c9eb43afc6b5": {
     "views": [
      {
       "cell_index": 4
      }
     ]
    },
    "7bdcfcb95f4f40e886b32a48c86f67d3": {
     "views": [
      {
       "cell_index": 5
      }
     ]
    },
    "87cb04469c9342c6ab40047c98f44803": {
     "views": [
      {
       "cell_index": 4
      }
     ]
    },
    "8cc28d3158304b008fd4c9c165679f99": {
     "views": [
      {
       "cell_index": 5
      }
     ]
    },
    "aaf950b3abf246be861de6878ebf6475": {
     "views": [
      {
       "cell_index": 4
      }
     ]
    },
    "b24acf9a24b3445b87e0a651e15c8966": {
     "views": [
      {
       "cell_index": 4
      }
     ]
    },
    "b515479ff003471ab1d4c2ed2676479b": {
     "views": [
      {
       "cell_index": 4
      }
     ]
    },
    "bf92526fd1fe4cb58e90a9e6c04707a1": {
     "views": [
      {
       "cell_index": 4
      }
     ]
    },
    "ca28a4ea157644efac2db6ad3055ecee": {
     "views": [
      {
       "cell_index": 5
      }
     ]
    },
    "d0b0eff94bfb4465ac37992ab1717913": {
     "views": [
      {
       "cell_index": 5
      }
     ]
    },
    "d809fc1d70ce40f5a4c8ee605d7cae24": {
     "views": [
      {
       "cell_index": 4
      },
      {
       "cell_index": 4
      }
     ]
    },
    "dd3f05a897f84f86ae0cef4e820572c4": {
     "views": [
      {
       "cell_index": 5
      }
     ]
    },
    "e09875edccf24a5c9668a1d95839060f": {
     "views": [
      {
       "cell_index": 5
      }
     ]
    },
    "ec823c82f51a428f904940e857bbd957": {
     "views": [
      {
       "cell_index": 4
      }
     ]
    },
    "f9960701d2a44613b080554ab0d70f5a": {
     "views": [
      {
       "cell_index": 5
      }
     ]
    }
   },
   "version": "1.2.0"
  }
 },
 "nbformat": 4,
 "nbformat_minor": 2
}
